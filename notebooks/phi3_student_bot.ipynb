{
  "nbformat": 4,
  "nbformat_minor": 0,
  "metadata": {
    "colab": {
      "provenance": [],
      "gpuType": "T4",
      "authorship_tag": "ABX9TyM5f7msDj554YB/VACKrOIZ",
      "include_colab_link": true
    },
    "kernelspec": {
      "name": "python3",
      "display_name": "Python 3"
    },
    "language_info": {
      "name": "python"
    },
    "accelerator": "GPU"
  },
  "cells": [
    {
      "cell_type": "markdown",
      "metadata": {
        "id": "view-in-github",
        "colab_type": "text"
      },
      "source": [
        "<a href=\"https://colab.research.google.com/github/Hetul803/finance-research-assistant/blob/main/notebooks/phi3_student_bot.ipynb\" target=\"_parent\"><img src=\"https://colab.research.google.com/assets/colab-badge.svg\" alt=\"Open In Colab\"/></a>"
      ]
    },
    {
      "cell_type": "code",
      "execution_count": null,
      "metadata": {
        "id": "28GRiC5-sFJ6"
      },
      "outputs": [],
      "source": [
        "!pip install transformers>=4.40.1 accelerate>=0.27.2\n"
      ]
    },
    {
      "cell_type": "code",
      "source": [
        "from transformers import AutoModelForCausalLM, AutoTokenizer\n",
        "model = AutoModelForCausalLM.from_pretrained(\n",
        "    \"microsoft/Phi-3-mini-4k-instruct\",\n",
        "    device_map=\"cuda\",\n",
        "    torch_dtype=\"auto\",\n",
        "    trust_remote_code=False,\n",
        ")\n",
        "\n",
        "tokenizer = AutoTokenizer.from_pretrained(\"microsoft/Phi-3-mini-4k-instruct\")"
      ],
      "metadata": {
        "id": "ITH5PON6sVrQ"
      },
      "execution_count": null,
      "outputs": []
    },
    {
      "cell_type": "code",
      "source": [
        "from transformers import pipeline\n",
        "generator = pipeline(\n",
        "    \"text-generation\",\n",
        "    model=model,\n",
        "    tokenizer=tokenizer,\n",
        "    return_full_text=False,\n",
        "    max_new_tokens=50,\n",
        "    do_sample=False,\n",
        ")"
      ],
      "metadata": {
        "id": "tBGsbtUhtjhv"
      },
      "execution_count": null,
      "outputs": []
    },
    {
      "cell_type": "code",
      "source": [
        "messages = [\n",
        "             {\"role\":\"system\",\"content\":\"Your are a helpful AI assisant.\"},\n",
        "             {\"role\":\"user\",\"content\":\"Who is salman khan?\"},\n",
        "]\n",
        "output = generator(messages)\n",
        "print(output[0][\"generated_text\"])"
      ],
      "metadata": {
        "id": "zmKuCU5hv3P3"
      },
      "execution_count": null,
      "outputs": []
    },
    {
      "cell_type": "code",
      "source": [
        "from transformers import pipeline\n",
        "chatbot = pipeline(\"text-generation\",model=model, tokenizer=tokenizer)\n"
      ],
      "metadata": {
        "id": "3lUjbjXvx9cS"
      },
      "execution_count": null,
      "outputs": []
    },
    {
      "cell_type": "code",
      "source": [
        "# Default: deterministic (no sampling, so no temperature)\n",
        "GEN_ARGS = {\n",
        "    \"max_new_tokens\": 200,\n",
        "    \"return_full_text\": False,\n",
        "    \"do_sample\": False,\n",
        "    # (no temperature/top_p keys when do_sample=False)\n",
        "}\n",
        "\n",
        "def set_sampling(on: bool, temperature: float = 0.7, top_p: float = 0.9):\n",
        "    \"\"\"Turn sampling on/off and set temperature/top_p without reloading the model.\"\"\"\n",
        "    GEN_ARGS[\"do_sample\"] = bool(on)\n",
        "    if on:\n",
        "        GEN_ARGS[\"temperature\"] = float(temperature)\n",
        "        GEN_ARGS[\"top_p\"] = float(top_p)\n",
        "    else:\n",
        "        # Remove keys so HF won't warn about ignored args\n",
        "        GEN_ARGS.pop(\"temperature\", None)\n",
        "        GEN_ARGS.pop(\"top_p\", None)\n",
        "\n",
        "# Example: turn ON temperature now (adjust values anytime)\n",
        "set_sampling(on=True, temperature=0.7, top_p=0.9)\n"
      ],
      "metadata": {
        "id": "yG7rUSGIzaj1"
      },
      "execution_count": null,
      "outputs": []
    },
    {
      "cell_type": "code",
      "source": [
        "HISTORY = []  # list of (user, assistant) tuples\n",
        "SYSTEM = \"You are a helpful assistant.\"\n",
        "\n",
        "def chat(message: str):\n",
        "    \"\"\"Ask a question, keep conversation context, use current GEN_ARGS.\"\"\"\n",
        "    # Build messages from history\n",
        "    messages = [{\"role\": \"system\", \"content\": SYSTEM}]\n",
        "    for u, a in HISTORY:\n",
        "        messages.append({\"role\": \"user\", \"content\": u})\n",
        "        messages.append({\"role\": \"assistant\", \"content\": a})\n",
        "    messages.append({\"role\": \"user\", \"content\": message})\n",
        "\n",
        "    # Generate with the already-loaded pipeline + current GEN_ARGS\n",
        "    out = chatbot(messages, **GEN_ARGS)\n",
        "    answer = out[0][\"generated_text\"]\n",
        "\n",
        "    # Save to history and print\n",
        "    HISTORY.append((message, answer))\n",
        "    print(answer)\n",
        "\n",
        "def clear_history():\n",
        "    HISTORY.clear()\n"
      ],
      "metadata": {
        "id": "PFMdmfV7oNj6"
      },
      "execution_count": null,
      "outputs": []
    },
    {
      "cell_type": "code",
      "source": [
        "# Temperature is ON right now from Step 2 (0.7). Ask anything:\n",
        "chat(\"Who is Gandhi?\")\n",
        "chat(\"Explain attention very simply.\")\n"
      ],
      "metadata": {
        "id": "1xVU0-Z5oNbp"
      },
      "execution_count": null,
      "outputs": []
    },
    {
      "cell_type": "code",
      "source": [
        "chat(\"Explain algorithms.\")\n",
        "\n"
      ],
      "metadata": {
        "id": "RmPPXUUroaVX"
      },
      "execution_count": null,
      "outputs": []
    },
    {
      "cell_type": "code",
      "source": [
        "chat(\"Explain quantum computing.\")"
      ],
      "metadata": {
        "id": "w7r8TF51oaO0"
      },
      "execution_count": null,
      "outputs": []
    }
  ]
}